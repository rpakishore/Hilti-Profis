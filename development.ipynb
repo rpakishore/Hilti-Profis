{
 "cells": [
  {
   "cell_type": "code",
   "execution_count": null,
   "metadata": {},
   "outputs": [],
   "source": [
    "import pandas as pd\n",
    "from template_python import debug\n",
    "debug(status=True)"
   ]
  },
  {
   "cell_type": "code",
   "execution_count": null,
   "metadata": {},
   "outputs": [],
   "source": [
    "from template_python.ollama import Ollama\n",
    "\n",
    "ollama = Ollama(url='192.168.107.13:11434')\n",
    "\n",
    "ollama.local                                                #list local models\n",
    "ollama.copy(source='llama2', destination='llama2-backup')   #Copy an existing local model\n",
    "ollama.delete(model_name='llama2')                          #Delete model and it's data\n",
    "ollama.show(model_name='llama2')                            #Show info of local model\n",
    "ollama.heartbeat()                                          #Check if Ollama is running\n",
    "ollama.public_models                                        #List public models\n",
    "ollama.pull(model_name='llama2')                            #pull a model from registry\n",
    "\n",
    "#generate response\n",
    "response, context = ollama.generate(\n",
    "    model_name='mistral',\n",
    "    prompt='Why is the sky blue in color?')\n",
    "\n",
    "#create a model\n",
    "ollama.create(\n",
    "    model_name='mario', \n",
    "    modelfile='FROM llama2\\nSYSTEM You are mario from Super Mario Bros.')"
   ]
  }
 ],
 "metadata": {
  "kernelspec": {
   "display_name": ".venv",
   "language": "python",
   "name": "python3"
  },
  "language_info": {
   "codemirror_mode": {
    "name": "ipython",
    "version": 3
   },
   "file_extension": ".py",
   "mimetype": "text/x-python",
   "name": "python",
   "nbconvert_exporter": "python",
   "pygments_lexer": "ipython3",
   "version": "3.11.7"
  },
  "orig_nbformat": 4
 },
 "nbformat": 4,
 "nbformat_minor": 2
}
